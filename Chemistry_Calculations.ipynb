{
  "nbformat": 4,
  "nbformat_minor": 0,
  "metadata": {
    "colab": {
      "provenance": []
    },
    "kernelspec": {
      "name": "python3",
      "display_name": "Python 3"
    },
    "language_info": {
      "name": "python"
    }
  },
  "cells": [
    {
      "cell_type": "markdown",
      "source": [
        "# Chemistry Calculations"
      ],
      "metadata": {
        "id": "zOdvUCWSslc6"
      }
    },
    {
      "cell_type": "code",
      "execution_count": 1,
      "metadata": {
        "id": "lHWNxLxkiJET"
      },
      "outputs": [],
      "source": [
        "%%capture\n",
        "!pip install scipy\n",
        "import scipy.constants as sci\n",
        "!pip install molmass\n",
        "from molmass import Formula as mol\n",
        "!pip install rdkit\n",
        "from rdkit import Chem\n",
        "import re\n",
        "from urllib.request import urlretrieve\n",
        "\n",
        "url = \"http://www.evanmarie.com/content/files/hs/chemistry_helpers.py\"\n",
        "urlretrieve(url, \"helpers.py\")\n",
        "\n",
        "import helpers as h"
      ]
    },
    {
      "cell_type": "markdown",
      "source": [
        "## Calculation Functions:\n",
        "\n",
        "* [Calculate the Molar Mass of an Element or Compound](#molar_mass)\n",
        "* [Calculate the Mass of One Atom of an Element or Compound](#one_atom)\n",
        "* [Convert Given Number of GRAMS to MOLES of an Element or Compound](#grams_moles)\n",
        "* [Convert Given Number of MOLES to GRAMS of an Element or Compound](#moles_grams)\n",
        "* [Calculate the Number of ATOMS in a Given Number of MOLES or GRAMS of an Element or Compound](#num_atoms)\n",
        "* [Calculate the Number of Atoms of ONE Element Within a Given Number of Grams of a Compoud](#one_element_atoms)"
      ],
      "metadata": {
        "id": "I5KMNMx7p9hu"
      }
    },
    {
      "cell_type": "markdown",
      "source": [
        "<a name = \"molar_mass\"></a>\n",
        "\n",
        "---\n",
        "## Calculate the Molar Mass of an Element or Compound\n",
        "## `h.molar_mass(formula)`\n",
        "\n",
        "- The characteristic molar mass of an element is simply the atomic mass in grams per mol."
      ],
      "metadata": {
        "id": "Jle3b6sHjsTt"
      }
    },
    {
      "cell_type": "code",
      "source": [
        "h.molar_mass(\"Ne\")"
      ],
      "metadata": {
        "colab": {
          "base_uri": "https://localhost:8080/",
          "height": 73
        },
        "id": "q-PYD76JiaUZ",
        "outputId": "310d1b50-4bcf-4b1b-efce-373af9e11783"
      },
      "execution_count": 2,
      "outputs": [
        {
          "output_type": "display_data",
          "data": {
            "text/plain": [
              "<IPython.core.display.HTML object>"
            ],
            "text/html": [
              "<span style = 'display: block; width: auto; \t\t\t\tfont-family: monospace;                                line-height: 2; background: purple;                                margin-left: auto; margin-right: auto;                                border: 1px solid text_color;                                border-radius: 3px; text-align: center;                                padding: 3px 8px 3px 8px;'>                                <font size=4><text style=color:white>The molar mass for Ne is 20.180 amu (atomic mass units).                                </text></font></style>"
            ]
          },
          "metadata": {}
        },
        {
          "output_type": "execute_result",
          "data": {
            "text/plain": [
              "20.18"
            ]
          },
          "metadata": {},
          "execution_count": 2
        }
      ]
    },
    {
      "cell_type": "markdown",
      "source": [
        "<a name=\"one_atom\"></a>\n",
        "\n",
        "---\n",
        "## Calculate the Mass of One Atom of an Element or Compound\n",
        "## `h.one_atom_mass(element)`\n",
        "\n",
        "- In order to determine the mass of one atom of an element, you must determine its molar mass, which is its atomic weight on the periodic table in g/mol, and you need to know the relationship between moles and the number of atoms: 1 mol of atoms = 6.022×1023 atoms . Then divide the molar mass by 6.022×1023 atoms/mol ."
      ],
      "metadata": {
        "id": "V-GOTZwUj_d-"
      }
    },
    {
      "cell_type": "code",
      "source": [
        "h.one_atom_mass(\"H2O\")"
      ],
      "metadata": {
        "colab": {
          "base_uri": "https://localhost:8080/",
          "height": 119
        },
        "id": "yLopjCqtjsAk",
        "outputId": "c9391c31-f618-4195-e71a-8d87dcea1484"
      },
      "execution_count": 3,
      "outputs": [
        {
          "output_type": "display_data",
          "data": {
            "text/plain": [
              "<IPython.core.display.HTML object>"
            ],
            "text/html": [
              "<span style = 'display: block; width: auto; \t\t\t\tfont-family: monospace;                                line-height: 2; background: purple;                                margin-left: auto; margin-right: auto;                                border: 1px solid text_color;                                border-radius: 3px; text-align: center;                                padding: 3px 8px 3px 8px;'>                                <font size=4><text style=color:white>The molar mass for H2O is 18.015 amu (atomic mass units).                                </text></font></style>"
            ]
          },
          "metadata": {}
        },
        {
          "output_type": "stream",
          "name": "stdout",
          "text": [
            "18.015\n"
          ]
        },
        {
          "output_type": "display_data",
          "data": {
            "text/plain": [
              "<IPython.core.display.HTML object>"
            ],
            "text/html": [
              "<span style = 'display: block; width: auto; \t\t\t\tfont-family: monospace;                                line-height: 2; background: purple;                                margin-left: auto; margin-right: auto;                                border: 1px solid text_color;                                border-radius: 3px; text-align: center;                                padding: 3px 8px 3px 8px;'>                                <font size=5><text style=color:white>The mass for one atom of H2O is 2.991e-23 grams.                                </text></font></style>"
            ]
          },
          "metadata": {}
        }
      ]
    },
    {
      "cell_type": "markdown",
      "source": [
        "<a name = \"grams_moles\"></a>\n",
        "\n",
        "---\n",
        "## Convert Given Number of GRAMS to MOLES of an Element or Compound\n",
        "## `h.grams_to_moles(formula, grams_of_substance)`\n",
        "- Divide the number of grams by the molar mass. The result is the number of moles in your element or compound. \n"
      ],
      "metadata": {
        "id": "ZRy4tSQjkQ-V"
      }
    },
    {
      "cell_type": "code",
      "source": [
        "h.grams_to_moles(\"H2O\", 5)"
      ],
      "metadata": {
        "colab": {
          "base_uri": "https://localhost:8080/",
          "height": 81
        },
        "id": "-DPV_zUYjr-I",
        "outputId": "59d13a7d-0553-4dd4-a16d-add07452feba"
      },
      "execution_count": 4,
      "outputs": [
        {
          "output_type": "display_data",
          "data": {
            "text/plain": [
              "<IPython.core.display.HTML object>"
            ],
            "text/html": [
              "<span style = 'display: block; width: auto; \t\t\t\tfont-family: monospace;                                line-height: 2; background: purple;                                margin-left: auto; margin-right: auto;                                border: 1px solid text_color;                                border-radius: 3px; text-align: center;                                padding: 3px 8px 3px 8px;'>                                <font size=5><text style=color:white>The mass for 5 grams of H2O is 0.28 moles.                                </text></font></style>"
            ]
          },
          "metadata": {}
        },
        {
          "output_type": "execute_result",
          "data": {
            "text/plain": [
              "0.2775464890369137"
            ]
          },
          "metadata": {},
          "execution_count": 4
        }
      ]
    },
    {
      "cell_type": "markdown",
      "source": [
        "<a name = \"moles_grams\"></a>\n",
        "\n",
        "---\n",
        "## Convert Given Number of MOLES to GRAMS of an Element or Compound\n",
        "## `h.moles_to_grams(formula, number_moles)`\n",
        "- Start with the number of moles and the chemical formula of the substance.\n",
        "- Find the molar mass of the substance. Add together the atomic mass of each element multiplied by its subscript. If there is no subscript, use the atomic mass of that element.\n",
        "- Multiply the number of moles by the molar mass. This gives an answer in grams.<br>\n",
        "[[SOURCE]](https://sciencenotes.org/moles-to-grams-conversion-examples/)\n"
      ],
      "metadata": {
        "id": "N8UpHf3ckAY4"
      }
    },
    {
      "cell_type": "code",
      "source": [
        "h.moles_to_grams(\"H2O\", 10)"
      ],
      "metadata": {
        "colab": {
          "base_uri": "https://localhost:8080/",
          "height": 81
        },
        "id": "KyfJ6R7Bjr75",
        "outputId": "eed8afa5-c8be-4af5-bf8f-08982cb656ba"
      },
      "execution_count": 5,
      "outputs": [
        {
          "output_type": "display_data",
          "data": {
            "text/plain": [
              "<IPython.core.display.HTML object>"
            ],
            "text/html": [
              "<span style = 'display: block; width: auto; \t\t\t\tfont-family: monospace;                                line-height: 2; background: purple;                                margin-left: auto; margin-right: auto;                                border: 1px solid text_color;                                border-radius: 3px; text-align: center;                                padding: 3px 8px 3px 8px;'>                                <font size=5><text style=color:white>The weight in grams for 10 moles of H2O is 180.2 grams.                                </text></font></style>"
            ]
          },
          "metadata": {}
        },
        {
          "output_type": "execute_result",
          "data": {
            "text/plain": [
              "180.15"
            ]
          },
          "metadata": {},
          "execution_count": 5
        }
      ]
    },
    {
      "cell_type": "markdown",
      "source": [
        "<a name = \"num_atoms\"></a>\n",
        "---\n",
        "## Calculate the Number of ATOMS in a Given Number of MOLES or GRAMS of an Element or Compound\n",
        "## `h.how_many_atoms(formula, number_moles=None, number_grams=None)`\n",
        "- To calculate the number of atoms in a sample, divide its weight in grams by the amu atomic mass from the periodic table, then multiply the result by Avogadro's number: 6.02 x 10^23.\n"
      ],
      "metadata": {
        "id": "4gc1FQsQkZda"
      }
    },
    {
      "cell_type": "code",
      "source": [
        "h.how_many_atoms(\"H20\", number_moles=5, number_grams=None)"
      ],
      "metadata": {
        "colab": {
          "base_uri": "https://localhost:8080/",
          "height": 63
        },
        "id": "UzYQ8tA8jr5Y",
        "outputId": "88dd6bf6-8128-4791-c73a-e659f15430d1"
      },
      "execution_count": 6,
      "outputs": [
        {
          "output_type": "display_data",
          "data": {
            "text/plain": [
              "<IPython.core.display.HTML object>"
            ],
            "text/html": [
              "<span style = 'display: block; width: auto; \t\t\t\tfont-family: monospace;                                line-height: 2; background: purple;                                margin-left: auto; margin-right: auto;                                border: 1px solid text_color;                                border-radius: 3px; text-align: center;                                padding: 3px 8px 3px 8px;'>                                <font size=5><text style=color:white>There are 3.01e+24 ATOMS of H20 in 5 moles of H20.                                </text></font></style>"
            ]
          },
          "metadata": {}
        }
      ]
    },
    {
      "cell_type": "markdown",
      "source": [
        "<a name = \"one_element_atoms\"></a>\n",
        "\n",
        "---\n",
        "## Calculate the Number of Atoms of ONE Element Within a Given Number of Grams of a Compoud\n",
        "## `h.atoms_element_in_compound(formula, num_grams, element, num_moles)`\n",
        "\n",
        "- Use the periodic table to determine the molar mass of the element.\n",
        "- Divide the given mass in grams by the molar mass to find the number of moles.\n",
        "- Multiply the number of moles by Avogadro's number to obtain the number of atoms. <br>\n",
        "[[SOURCE]](https://study.com/learn/lesson/how-to-find-number-of-atoms-in-compound.html)"
      ],
      "metadata": {
        "id": "GeyCw3S2khn1"
      }
    },
    {
      "cell_type": "code",
      "source": [
        "h.atoms_element_in_compound(\"H2O\", 5, \"H\", 2)"
      ],
      "metadata": {
        "colab": {
          "base_uri": "https://localhost:8080/",
          "height": 101
        },
        "id": "PGands-Qjr20",
        "outputId": "73a36d02-b04d-4969-b6b3-f365d73d7d31"
      },
      "execution_count": 7,
      "outputs": [
        {
          "output_type": "display_data",
          "data": {
            "text/plain": [
              "<IPython.core.display.HTML object>"
            ],
            "text/html": [
              "<span style = 'display: block; width: auto; \t\t\t\tfont-family: monospace;                                line-height: 2; background: purple;                                margin-left: auto; margin-right: auto;                                border: 1px solid text_color;                                border-radius: 3px; text-align: center;                                padding: 3px 8px 3px 8px;'>                                <font size=4><text style=color:white>The molar mass for H2O is 18.015 amu (atomic mass units).                                </text></font></style>"
            ]
          },
          "metadata": {}
        },
        {
          "output_type": "display_data",
          "data": {
            "text/plain": [
              "<IPython.core.display.HTML object>"
            ],
            "text/html": [
              "<span style = 'display: block; width: auto; \t\t\t\tfont-family: monospace;                                line-height: 2; background: purple;                                margin-left: auto; margin-right: auto;                                border: 1px solid text_color;                                border-radius: 3px; text-align: center;                                padding: 3px 8px 3px 8px;'>                                <font size=5><text style=color:white>There are 3.343e+23 atoms of H in 5 grams of H2O.                                </text></font></style>"
            ]
          },
          "metadata": {}
        }
      ]
    },
    {
      "cell_type": "code",
      "source": [
        "h.atoms_in_grams_compound(\"H2O\", 10)"
      ],
      "metadata": {
        "colab": {
          "base_uri": "https://localhost:8080/",
          "height": 101
        },
        "id": "EGIc6VzYkkuR",
        "outputId": "d54e17d5-8b9b-441c-bd13-33dce3950c45"
      },
      "execution_count": 8,
      "outputs": [
        {
          "output_type": "display_data",
          "data": {
            "text/plain": [
              "<IPython.core.display.HTML object>"
            ],
            "text/html": [
              "<span style = 'display: block; width: auto; \t\t\t\tfont-family: monospace;                                line-height: 2; background: purple;                                margin-left: auto; margin-right: auto;                                border: 1px solid text_color;                                border-radius: 3px; text-align: center;                                padding: 3px 8px 3px 8px;'>                                <font size=4><text style=color:white>The molar mass for H2O is 18.015 amu (atomic mass units).                                </text></font></style>"
            ]
          },
          "metadata": {}
        },
        {
          "output_type": "display_data",
          "data": {
            "text/plain": [
              "<IPython.core.display.HTML object>"
            ],
            "text/html": [
              "<span style = 'display: block; width: auto; \t\t\t\tfont-family: monospace;                                line-height: 2; background: purple;                                margin-left: auto; margin-right: auto;                                border: 1px solid text_color;                                border-radius: 3px; text-align: center;                                padding: 3px 8px 3px 8px;'>                                <font size=5><text style=color:white>There are 3.343e+23 atoms of H2O in 10 grams of H2O.                                </text></font></style>"
            ]
          },
          "metadata": {}
        }
      ]
    },
    {
      "cell_type": "code",
      "source": [],
      "metadata": {
        "id": "jEAqO_qekksD"
      },
      "execution_count": 8,
      "outputs": []
    },
    {
      "cell_type": "code",
      "source": [],
      "metadata": {
        "id": "L5RLDPMBkkpl"
      },
      "execution_count": 8,
      "outputs": []
    },
    {
      "cell_type": "code",
      "source": [],
      "metadata": {
        "id": "7JJYws-JkknO"
      },
      "execution_count": 8,
      "outputs": []
    }
  ]
}